{
 "cells": [
  {
   "cell_type": "code",
   "execution_count": null,
   "id": "87345a3c",
   "metadata": {},
   "outputs": [],
   "source": [
    "import random\n",
    "import matplotlib.pyplot as plt\n",
    "from collections import Counter"
   ]
  },
  {
   "cell_type": "code",
   "execution_count": null,
   "id": "d88a588b",
   "metadata": {},
   "outputs": [],
   "source": [
    "turn_amount = 100000\n",
    "dice_amount = 6\n",
    "results = Counter(sorted([sum([random.randint(1, 6) for _ in range(dice_amount)]) for _ in range(turn_amount)]))\n",
    "\n",
    "fig = plt.figure()\n",
    "plt.plot(results.keys(), results.values())\n",
    "plt.xlabel(f'Sum of {dice_amount} dice rolls in one turn')\n",
    "plt.ylabel(f'the result obtained from {turn_amount} shots ')\n",
    "plt.show()\n"
   ]
  }
 ],
 "metadata": {
  "kernelspec": {
   "display_name": "Python 3 (ipykernel)",
   "language": "python",
   "name": "python3"
  },
  "language_info": {
   "codemirror_mode": {
    "name": "ipython",
    "version": 3
   },
   "file_extension": ".py",
   "mimetype": "text/x-python",
   "name": "python",
   "nbconvert_exporter": "python",
   "pygments_lexer": "ipython3",
   "version": "3.9.7"
  }
 },
 "nbformat": 4,
 "nbformat_minor": 5
}
