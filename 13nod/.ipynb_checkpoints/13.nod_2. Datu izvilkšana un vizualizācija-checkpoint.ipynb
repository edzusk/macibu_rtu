{
 "cells": [
  {
   "cell_type": "code",
   "execution_count": null,
   "id": "4a681baf",
   "metadata": {},
   "outputs": [],
   "source": [
    "import pandas as pd\n",
    "import matplotlib.pyplot as plt"
   ]
  },
  {
   "cell_type": "code",
   "execution_count": null,
   "id": "e07a8782",
   "metadata": {},
   "outputs": [],
   "source": [
    "df = pd.read_csv('https://data.gov.lv/dati/dataset/633b5005-fe7f-44bd-b17c-4995d359f9b0/resource/052f638a-4394-42b5-b3cc-12fecc3db308/download/kopa_cesu_pils_valstis_pa_gadiem_menesiem.csv', sep = ';')\n",
    "df"
   ]
  },
  {
   "cell_type": "code",
   "execution_count": null,
   "id": "7f383e11",
   "metadata": {},
   "outputs": [],
   "source": [
    "filter = (df.gads == 2019) & (df.KOPĀ >= 100)\n",
    "df[filter].plot.bar(y='KOPĀ', x='Valsts' )"
   ]
  },
  {
   "cell_type": "code",
   "execution_count": null,
   "id": "47f17373",
   "metadata": {},
   "outputs": [],
   "source": [
    "ukr_visitors = df[df.Valsts == 'Ukraina']\n",
    "ukr_visitors.plot.line(x='gads', y='KOPĀ')"
   ]
  },
  {
   "cell_type": "code",
   "execution_count": null,
   "id": "601e34d7",
   "metadata": {},
   "outputs": [],
   "source": [
    "\n",
    "\n"
   ]
  }
 ],
 "metadata": {
  "kernelspec": {
   "display_name": "Python 3 (ipykernel)",
   "language": "python",
   "name": "python3"
  },
  "language_info": {
   "codemirror_mode": {
    "name": "ipython",
    "version": 3
   },
   "file_extension": ".py",
   "mimetype": "text/x-python",
   "name": "python",
   "nbconvert_exporter": "python",
   "pygments_lexer": "ipython3",
   "version": "3.9.7"
  }
 },
 "nbformat": 4,
 "nbformat_minor": 5
}
