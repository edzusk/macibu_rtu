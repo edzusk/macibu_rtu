{
 "cells": [
  {
   "cell_type": "code",
   "execution_count": 1,
   "id": "ab23c4bb",
   "metadata": {},
   "outputs": [
    {
     "name": "stdout",
     "output_type": "stream",
     "text": [
      "Hello jupiter notebook!\n"
     ]
    }
   ],
   "source": [
    "print('Hello jupiter notebook!')"
   ]
  },
  {
   "cell_type": "code",
   "execution_count": 2,
   "id": "5ee4c859",
   "metadata": {},
   "outputs": [
    {
     "data": {
      "text/plain": [
       "'Just directly'"
      ]
     },
     "execution_count": 2,
     "metadata": {},
     "output_type": "execute_result"
    }
   ],
   "source": [
    "'Just directly'"
   ]
  },
  {
   "cell_type": "code",
   "execution_count": 3,
   "id": "806d6622",
   "metadata": {},
   "outputs": [
    {
     "data": {
      "text/plain": [
       "(4, False, 25)"
      ]
     },
     "execution_count": 3,
     "metadata": {},
     "output_type": "execute_result"
    }
   ],
   "source": [
    "2+2, True and False, 5**2"
   ]
  },
  {
   "cell_type": "code",
   "execution_count": 4,
   "id": "e5b8cf71",
   "metadata": {},
   "outputs": [
    {
     "name": "stdout",
     "output_type": "stream",
     "text": [
      "My name is name='Edzus'\n"
     ]
    }
   ],
   "source": [
    "name = 'Edzus'\n",
    "print(f'My name is {name=}')"
   ]
  },
  {
   "cell_type": "code",
   "execution_count": 5,
   "id": "edd4cf40",
   "metadata": {},
   "outputs": [
    {
     "name": "stdout",
     "output_type": "stream",
     "text": [
      "name='Edzus' still same\n"
     ]
    }
   ],
   "source": [
    "print(f'{name=} still same')"
   ]
  },
  {
   "cell_type": "code",
   "execution_count": 6,
   "id": "32d3aa11",
   "metadata": {},
   "outputs": [
    {
     "name": "stdout",
     "output_type": "stream",
     "text": [
      "Edzus\n"
     ]
    }
   ],
   "source": [
    "print(name)\n",
    "#as soon as cell is run, the contents are available in the notebook"
   ]
  }
 ],
 "metadata": {
  "kernelspec": {
   "display_name": "Python 3 (ipykernel)",
   "language": "python",
   "name": "python3"
  },
  "language_info": {
   "codemirror_mode": {
    "name": "ipython",
    "version": 3
   },
   "file_extension": ".py",
   "mimetype": "text/x-python",
   "name": "python",
   "nbconvert_exporter": "python",
   "pygments_lexer": "ipython3",
   "version": "3.9.7"
  }
 },
 "nbformat": 4,
 "nbformat_minor": 5
}
